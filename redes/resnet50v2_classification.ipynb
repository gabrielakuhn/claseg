{
 "cells": [
  {
   "cell_type": "code",
   "execution_count": null,
   "metadata": {
    "id": "JGumE47R4qWU"
   },
   "outputs": [],
   "source": [
    "import json\n",
    "import math\n",
    "import os\n",
    "import os.path\n",
    "\n",
    "import cv2\n",
    "from PIL import Image\n",
    "import numpy as np\n",
    "from keras import layers\n",
    "#from keras.applications import ResNet50,MobileNet, DenseNet201, InceptionV3, NASNetLarge, InceptionResNetV2, NASNetMobile\n",
    "from tensorflow.keras.applications import ResNet50,ResNet50V2, MobileNet, DenseNet201, InceptionV3, NASNetLarge, InceptionResNetV2, NASNetMobile\n",
    "from keras.callbacks import Callback, ModelCheckpoint, ReduceLROnPlateau, TensorBoard, EarlyStopping\n",
    "from keras.preprocessing.image import ImageDataGenerator\n",
    "from keras.utils.np_utils import to_categorical\n",
    "from keras.models import Sequential\n",
    "#from keras.optimizers import Adam\n",
    "from tensorflow.keras.optimizers import Adam\n",
    "import matplotlib.pyplot as plt\n",
    "import pandas as pd\n",
    "from sklearn.model_selection import train_test_split\n",
    "from sklearn.metrics import cohen_kappa_score, accuracy_score\n",
    "import scipy\n",
    "from tqdm import tqdm\n",
    "import tensorflow as tf\n",
    "from keras import backend as K\n",
    "import gc\n",
    "from functools import partial\n",
    "from sklearn import metrics\n",
    "from collections import Counter\n",
    "import json\n",
    "import itertools"
   ]
  },
  {
   "cell_type": "code",
   "execution_count": null,
   "metadata": {
    "id": "rdGioaIl5OED"
   },
   "outputs": [],
   "source": [
    "####################################################\n",
    "# Base directory\n",
    "####################################################\n",
    "\n",
    "from google.colab import drive\n",
    "drive.mount('/content/drive/',  force_remount=True)\n",
    "\n",
    "base_path = '/content/drive/My Drive/cancer_detection/2022/datasets/2022_2/224px_level0_full/'\n",
    "\n",
    "train_dir = base_path + '/patch_train'\n",
    "val_dir = base_path + '/patch_val'\n",
    "test_dir = base_path + '/patch_test'\n",
    "\n",
    "negative_train = train_dir + '/0'\n",
    "positive_train = train_dir + '/1'\n",
    "negative_val = val_dir +'/0'\n",
    "positive_val = val_dir + '/1'"
   ]
  },
  {
   "cell_type": "code",
   "execution_count": null,
   "metadata": {
    "id": "P_xArI1k69Op"
   },
   "outputs": [],
   "source": [
    "patchSize = 224"
   ]
  },
  {
   "cell_type": "code",
   "execution_count": null,
   "metadata": {
    "id": "hpBhM4lb7wti"
   },
   "outputs": [],
   "source": [
    "####################################################\n",
    "# Image Generator and Data Augmentation Configs\n",
    "####################################################\n",
    "\n",
    "data_augmentation = ImageDataGenerator(\n",
    "    rotation_range = 90,\n",
    "    horizontal_flip=True,  # randomly flip images\n",
    "    vertical_flip=True,  # randomly flip images\n",
    ")"
   ]
  },
  {
   "cell_type": "code",
   "execution_count": null,
   "metadata": {
    "id": "9Sijr-Eg78OO"
   },
   "outputs": [],
   "source": [
    "train_generator = data_augmentation.flow_from_directory(\n",
    "    directory=train_dir,\n",
    "    target_size=(patchSize, patchSize),\n",
    "    color_mode=\"rgb\",\n",
    "    batch_size=224,\n",
    "    class_mode=\"binary\",\n",
    "    shuffle=True,\n",
    "    seed=None\n",
    ")\n",
    "\n",
    "print(train_generator)"
   ]
  },
  {
   "cell_type": "code",
   "execution_count": null,
   "metadata": {
    "id": "IVLrFJbd1ADE"
   },
   "outputs": [],
   "source": [
    "print(train_generator.class_indices)\n",
    "print(train_generator.class_mode)\n",
    "print(train_generator.classes)\n",
    "print(train_generator.num_classes)\n",
    "print(train_generator.total_batches_seen)"
   ]
  },
  {
   "cell_type": "code",
   "execution_count": null,
   "metadata": {
    "id": "bozNKaD18Imz"
   },
   "outputs": [],
   "source": [
    "val_generator = data_augmentation.flow_from_directory(\n",
    "    directory=val_dir,\n",
    "    target_size=(patchSize, patchSize),\n",
    "    color_mode=\"rgb\",\n",
    "    batch_size=224,\n",
    "    class_mode=\"binary\",\n",
    "    shuffle=True,\n",
    "    seed=None\n",
    ")\n",
    "\n",
    "print(val_generator)"
   ]
  },
  {
   "cell_type": "code",
   "execution_count": null,
   "metadata": {
    "id": "POv2-mSyFJkH"
   },
   "outputs": [],
   "source": [
    "base_path_test = '/content/drive/My Drive/cancer_detection/2022/datasets/2022_2/224px_level0_complete/'\n",
    "\n",
    "test_dir = base_path_test + '/patch_test'\n",
    "\n",
    "test_generator = data_augmentation.flow_from_directory(\n",
    "    directory=test_dir,\n",
    "    target_size=(patchSize, patchSize),\n",
    "    color_mode=\"rgb\",\n",
    "    batch_size=224,\n",
    "    class_mode=\"binary\",\n",
    "    shuffle=True,\n",
    "    seed=None\n",
    ")\n",
    "\n",
    "print(test_generator)"
   ]
  },
  {
   "cell_type": "code",
   "execution_count": null,
   "metadata": {
    "id": "se5jXtjQDWsb"
   },
   "outputs": [],
   "source": [
    "def build_model(modelBase, lr):\n",
    "    model = Sequential()\n",
    "    model.add(modelBase)\n",
    "    model.add(layers.GlobalAveragePooling2D())\n",
    "    model.add(layers.Dropout(0.5))\n",
    "    model.add(layers.BatchNormalization())\n",
    "    model.add(layers.Dense(1, activation='softmax'))\n",
    "    \n",
    "    model.compile(\n",
    "        loss='binary_crossentropy',\n",
    "        optimizer=Adam(lr=lr),\n",
    "        metrics=['accuracy']\n",
    "    )\n",
    "    \n",
    "    return model"
   ]
  },
  {
   "cell_type": "code",
   "execution_count": null,
   "metadata": {
    "id": "hR7nrH4sDbvJ"
   },
   "outputs": [],
   "source": [
    "K.clear_session()\n",
    "gc.collect()\n",
    "\n",
    "denseNet = DenseNet201(\n",
    "    weights='imagenet',\n",
    "    include_top=False,\n",
    "    input_shape=(patchSize,patchSize,3)\n",
    ")\n",
    "\n",
    "resnet = ResNet50(\n",
    "    weights='imagenet',\n",
    "    include_top=False,\n",
    "    input_shape=(patchSize,patchSize,3)\n",
    ")\n",
    "\n",
    "resnetv2 = ResNet50V2(\n",
    "    weights='imagenet',\n",
    "    include_top=False,\n",
    "    input_shape=(patchSize,patchSize,3)\n",
    ")"
   ]
  },
  {
   "cell_type": "code",
   "execution_count": null,
   "metadata": {
    "id": "DgDPyaPM5WFI"
   },
   "outputs": [],
   "source": [
    "#######################################################################\n",
    "# FREEZING - get all layers in resnetv2 and set trainable = False\n",
    "#######################################################################\n",
    "\n",
    "for layer in resnetv2.layers:\n",
    "    if layer.trainable == True:\n",
    "        layer.trainable = False\n",
    "\n",
    "for layer in resnetv2.layers:\n",
    "  if layer.trainable == False:\n",
    "     print(layer.name)"
   ]
  },
  {
   "cell_type": "code",
   "execution_count": null,
   "metadata": {
    "id": "NdxH0TGg5mRh"
   },
   "outputs": [],
   "source": [
    "#######################################################################\n",
    "# UNFREEZING - get layer by name in resnetv2 and set trainable = True\n",
    "#######################################################################\n",
    "\n",
    "for layer in resnetv2.layers:\n",
    "  if layer.name == 'conv5_block3_3_conv':\n",
    "     layer.trainable = True\n",
    "\n",
    "for layer in resnetv2.layers:\n",
    "  if layer.trainable == True:\n",
    "     print(layer.name)"
   ]
  },
  {
   "cell_type": "code",
   "execution_count": null,
   "metadata": {
    "id": "wonr4FHWDi9m"
   },
   "outputs": [],
   "source": [
    "batch_size = 224\n",
    "num_epochs = 50\n",
    "learning_rate = 1e-4\n",
    "model = build_model(resnetv2, learning_rate)"
   ]
  },
  {
   "cell_type": "code",
   "execution_count": null,
   "metadata": {
    "id": "nZixz_6T4ZmQ"
   },
   "outputs": [],
   "source": [
    "####################################################\n",
    "# SET FILEPATH TO SAVE\n",
    "####################################################\n",
    "\n",
    "model_dir = base_path\n",
    "model_name = 'model_resnet50_224_level0_009.h5' \n",
    "filepath = os.path.join(model_dir, 'checkpoint', model_name)\n",
    "\n",
    "print(filepath)"
   ]
  },
  {
   "cell_type": "code",
   "execution_count": null,
   "metadata": {
    "id": "6TbcA-lJFd7m"
   },
   "outputs": [],
   "source": [
    "#######################################################################\n",
    "# CALLBACKS - Learning Rate Reducer & ModelCheckpoint & EarlyStopping\n",
    "#######################################################################\n",
    "\n",
    "# ReduceLROnPlateau: Learning Rate Reducer when a metric has stopped improving. \n",
    "# Models often benefit from reducing the learning rate by a factor of 2–10 once \n",
    "# learning stagnates. This callback monitors a quantity and if no improvement \n",
    "# is seen for a ‘patience’ number of epochs, the learning rate is reduced.\n",
    "\n",
    "\n",
    "learn_control = ReduceLROnPlateau(monitor='val_accuracy',\n",
    "                                  patience=5,\n",
    "                                  verbose=1,\n",
    "                                  factor=0.2,\n",
    "                                  min_lr=1e-7)\n",
    "\n",
    "# ModelCheckpoint: When training requires a lot of time to achieve a good result, \n",
    "# often many iterations are required. In this case, it is better to save a copy \n",
    "# of the best performing model only when an epoch that improves the metrics ends.\n",
    "\n",
    "checkpoint = ModelCheckpoint(filepath, \n",
    "                             monitor='val_accuracy', \n",
    "                             verbose=1, \n",
    "                             save_best_only=True, \n",
    "                             mode='max'\n",
    "                             )\n",
    "\n",
    "# EarlyStopping Too many epochs can lead to overfitting of the training dataset, \n",
    "# whereas too few may result in an underfit model. Early stopping is a method that \n",
    "# allows you to specify an arbitrary large number of training epochs and stop training \n",
    "# once the model performance stops improving on a hold out validation dataset.\n",
    "\n",
    "early_stopping = EarlyStopping(\n",
    "                  monitor=\"val_loss\",\n",
    "                  min_delta=0,\n",
    "                  patience=25,\n",
    "                  verbose=1,\n",
    "                  mode=\"auto\",\n",
    "                  baseline=None,\n",
    "                  restore_best_weights=False,\n",
    "              )"
   ]
  },
  {
   "cell_type": "code",
   "execution_count": null,
   "metadata": {
    "id": "ZfqCR3LNDSqX"
   },
   "outputs": [],
   "source": [
    "####################################################\n",
    "# TRAINING\n",
    "####################################################\n",
    "\n",
    "model_history = model.fit(\n",
    "                      train_generator,\n",
    "                      steps_per_epoch=train_generator.n // batch_size,\n",
    "                      epochs=num_epochs,\n",
    "                      validation_data=val_generator,\n",
    "                      validation_steps=val_generator.n // batch_size, \n",
    "                      class_weight={0: 5, 1: 1},\n",
    "                      callbacks=[learn_control, checkpoint, early_stopping])"
   ]
  },
  {
   "cell_type": "code",
   "execution_count": null,
   "metadata": {
    "id": "brFNO1RDmiLI"
   },
   "outputs": [],
   "source": [
    "####################################################\n",
    "# Saving Model\n",
    "####################################################\n",
    "\n",
    "model_dir = base_path\n",
    "model_name = 'save_model_resnet50_224_level0_009.h5'\n",
    "model.save(os.path.join(model_dir, 'checkpoint', model_name))"
   ]
  },
  {
   "cell_type": "code",
   "execution_count": null,
   "metadata": {
    "id": "XEtWr3Twm1Py"
   },
   "outputs": [],
   "source": [
    "history_df = pd.DataFrame(model_history.history)\n",
    "history_df[['accuracy', 'val_accuracy']].plot()"
   ]
  },
  {
   "cell_type": "code",
   "execution_count": null,
   "metadata": {
    "id": "y7aP4Cuom9h_"
   },
   "outputs": [],
   "source": [
    "history_df = pd.DataFrame(model_history.history)\n",
    "history_df[['loss', 'val_loss']].plot()"
   ]
  },
  {
   "cell_type": "code",
   "execution_count": null,
   "metadata": {
    "id": "napDrwsttZVw"
   },
   "outputs": [],
   "source": [
    "####################################################\n",
    "# LOAD HEIGHTS TO RESULTS\n",
    "####################################################\n",
    "\n",
    "model.load_weights(filepath)"
   ]
  },
  {
   "cell_type": "code",
   "execution_count": null,
   "metadata": {
    "id": "XWaA4t2J9FTr"
   },
   "outputs": [],
   "source": [
    "val_pred = model.predict(val_generator)\n",
    "\n",
    "val_true = val_generator.classes[val_generator.index_array]\n",
    "val_predict = np.argmax(val_pred, axis=1)\n",
    "\n",
    "print(val_true)\n",
    "print(val_predict)"
   ]
  },
  {
   "cell_type": "code",
   "execution_count": null,
   "metadata": {
    "id": "8O-jiZDSHdzP"
   },
   "outputs": [],
   "source": [
    "accuracy_score(val_true, val_predict)"
   ]
  },
  {
   "cell_type": "code",
   "execution_count": null,
   "metadata": {
    "id": "m2YUYCufnBXt"
   },
   "outputs": [],
   "source": [
    "test_pred = model.predict(test_generator)\n",
    "\n",
    "test_true = test_generator.classes[test_generator.index_array]\n",
    "test_predict = np.argmax(test_pred, axis=1)\n",
    "\n",
    "print(test_true)\n",
    "print(test_predict)"
   ]
  },
  {
   "cell_type": "code",
   "execution_count": null,
   "metadata": {
    "id": "7-_RrJ88Icli"
   },
   "outputs": [],
   "source": [
    "tta_steps = 10\n",
    "predictions = []\n",
    "\n",
    "\n",
    "for i in tqdm(range(tta_steps)):\n",
    "    preds = model.predict(data_augmentation.flow(test_generator,\n",
    "                                                         batch_size=batch_size,\n",
    "                                                         shuffle=False),\n",
    "                                                         steps=math.ceil(test_generator.samples / batch_size)\n",
    "                                    )\n",
    "    \n",
    "    predictions.append(preds)\n",
    "    gc.collect()\n",
    "    \n",
    "labels_test_pred_tta = np.mean(predictions, axis=0)"
   ]
  },
  {
   "cell_type": "code",
   "execution_count": null,
   "metadata": {
    "id": "ztmVMLMY9kX2"
   },
   "outputs": [],
   "source": [
    "####################################################\n",
    "# CONFUSION MATRIX\n",
    "####################################################\n",
    "\n",
    "from sklearn.metrics import confusion_matrix\n",
    "\n",
    "def plot_confusion_matrix(cm, \n",
    "                          classes,\n",
    "                          normalize=False,\n",
    "                          title='Confusion matrix',\n",
    "                          cmap=plt.cm.Blues):\n",
    "    \"\"\"\n",
    "    This function prints and plots the confusion matrix.\n",
    "    Normalization can be applied by setting `normalize=True`.\n",
    "    \"\"\"\n",
    "    if normalize:\n",
    "        cm = cm.astype('float') / cm.sum(axis=1)[:, np.newaxis]\n",
    "        print(\"Normalized confusion matrix\")\n",
    "    else:\n",
    "        print('Confusion matrix, sem normalizacao')\n",
    "\n",
    "    print(cm)\n",
    "\n",
    "    plt.imshow(cm, \n",
    "               interpolation='nearest', \n",
    "               cmap=cmap)\n",
    "    plt.title(title)\n",
    "    plt.colorbar()\n",
    "    tick_marks = np.arange(len(classes))\n",
    "    plt.xticks(tick_marks, classes, rotation=55)\n",
    "    plt.yticks(tick_marks, classes)\n",
    "\n",
    "    fmt = '.2f' if normalize else 'd'\n",
    "    thresh = cm.max() / 2.\n",
    "    for i, j in itertools.product(range(cm.shape[0]), range(cm.shape[1])):\n",
    "        plt.text(j,\n",
    "                 i,\n",
    "                 format(cm[i, j], fmt),\n",
    "                 horizontalalignment=\"center\",\n",
    "                 color=\"white\" if cm[i, j] > thresh else \"black\")\n",
    "\n",
    "    plt.ylabel('Real (rotulado)')\n",
    "    plt.xlabel('Previsto (pelo modelo)')\n",
    "    plt.tight_layout()\n",
    "\n",
    "cm = confusion_matrix(test_true, test_predict)\n",
    "\n",
    "cm_plot_label =['Negativo', 'Positivo']\n",
    "plot_confusion_matrix(cm, cm_plot_label, title ='Matriz de confusão para metastase em Câncer de mama')"
   ]
  },
  {
   "cell_type": "code",
   "execution_count": null,
   "metadata": {
    "id": "kfMWbxkp9pOP"
   },
   "outputs": [],
   "source": [
    "####################################################\n",
    "# Classification report\n",
    "####################################################\n",
    "\n",
    "from sklearn.metrics import classification_report\n",
    "\n",
    "c = classification_report(test_true, test_predict)\n",
    "print(c)"
   ]
  },
  {
   "cell_type": "code",
   "execution_count": null,
   "metadata": {
    "id": "hMhSnXUg9rOi"
   },
   "outputs": [],
   "source": [
    "####################################################\n",
    "# ROC CURVE\n",
    "####################################################\n",
    "\n",
    "from sklearn.metrics import roc_auc_score, auc\n",
    "from sklearn.metrics import roc_curve\n",
    "\n",
    "roc_log = roc_auc_score(test_true, test_predict)\n",
    "false_positive_rate, true_positive_rate, threshold = roc_curve(test_true, test_predict)\n",
    "area_under_curve = auc(false_positive_rate, true_positive_rate)\n",
    "\n",
    "plt.plot([0, 1], [0, 1], 'r--')\n",
    "plt.plot(false_positive_rate, true_positive_rate, label='AUC = {:.3f}'.format(area_under_curve))\n",
    "plt.xlabel('Falso positivo rate')\n",
    "plt.ylabel('Verdadeiro positivo rate')\n",
    "plt.title('Curva ROC')\n",
    "plt.legend(loc='best')\n",
    "plt.show()\n",
    "plt.close()"
   ]
  }
 ],
 "metadata": {
  "accelerator": "GPU",
  "colab": {
   "authorship_tag": "ABX9TyMKyzy+NETOpau4b3CL8pN6",
   "machine_shape": "hm",
   "private_outputs": true,
   "provenance": []
  },
  "gpuClass": "premium",
  "kernelspec": {
   "display_name": "Python 3 (ipykernel)",
   "language": "python",
   "name": "python3"
  },
  "language_info": {
   "codemirror_mode": {
    "name": "ipython",
    "version": 3
   },
   "file_extension": ".py",
   "mimetype": "text/x-python",
   "name": "python",
   "nbconvert_exporter": "python",
   "pygments_lexer": "ipython3",
   "version": "3.9.12"
  }
 },
 "nbformat": 4,
 "nbformat_minor": 1
}

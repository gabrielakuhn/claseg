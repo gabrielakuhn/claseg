{
 "cells": [
  {
   "cell_type": "code",
   "execution_count": null,
   "metadata": {
    "id": "xBTdoKTRftkZ"
   },
   "outputs": [],
   "source": [
    "#########################################################################################################################\n",
    "################################################### LOADING AND LABEL ###################################################\n",
    "#########################################################################################################################"
   ]
  },
  {
   "cell_type": "code",
   "execution_count": 2,
   "metadata": {
    "scrolled": false
   },
   "outputs": [],
   "source": [
    "import os\n",
    "import cv2\n",
    "import numpy as np\n",
    "from matplotlib import pyplot as plt\n",
    "\n",
    "#from glob2 import glob\n",
    "\n",
    "import random\n",
    "from random import sample\n",
    "\n",
    "import shutil\n",
    "import os.path"
   ]
  },
  {
   "cell_type": "code",
   "execution_count": 13,
   "metadata": {},
   "outputs": [],
   "source": [
    "################################################\n",
    "# Base Path\n",
    "################################################\n",
    "\n",
    "K_FOLD_NAME = 'folders_to_train/K_Fold_train_05/'\n",
    "\n",
    "base_path = './dataset/' # Reminder: nao precisa criar essa pasta, create_dir faz pra ti\n",
    "\n",
    "k_fold_img = base_path + K_FOLD_NAME + 'image/img/' # pacths para train\n",
    "k_fold_mask = base_path + K_FOLD_NAME + 'mask/img/' # pacths para train"
   ]
  },
  {
   "cell_type": "code",
   "execution_count": 36,
   "metadata": {},
   "outputs": [
    {
     "data": {
      "text/plain": [
       "'folders_to_train/K_Fold_train_01/'"
      ]
     },
     "execution_count": 36,
     "metadata": {},
     "output_type": "execute_result"
    }
   ],
   "source": [
    "# Crindo pastas para os arquivos dentro de uma pasta base se nao existe (base path)\n",
    "\n",
    "def create_dir(dir_to_create_path):\n",
    "  dirExist = os.path.exists(dir_to_create_path)\n",
    "\n",
    "  if not dirExist:\n",
    "    os.makedirs(dir_to_create_path)\n",
    "    #print(\"The new directory for %s image is created!\" % (slide_num))\n",
    "    return (dir_to_create_path)\n",
    "\n",
    "create_dir(K_FOLD_NAME)\n"
   ]
  },
  {
   "cell_type": "code",
   "execution_count": 4,
   "metadata": {},
   "outputs": [
    {
     "name": "stdout",
     "output_type": "stream",
     "text": [
      "../../../01_2022_vs/dataset/224_full_from_colab_oquefoiusadomesmo_pracassificacao/patch_val/1\n",
      "7028\n"
     ]
    }
   ],
   "source": [
    "####################################################\n",
    "# Checking the number of files in the output folder\n",
    "####################################################\n",
    "\n",
    "path = '../../../01_2022_vs/dataset/224_full_from_colab_oquefoiusadomesmo_pracassificacao/patch_val/1'\n",
    "\n",
    "num_files = len([f for f in os.listdir(path)if os.path.isfile(os.path.join(path, f))])\n",
    "print(path)\n",
    "print(num_files)"
   ]
  },
  {
   "cell_type": "code",
   "execution_count": 35,
   "metadata": {},
   "outputs": [
    {
     "ename": "ValueError",
     "evalue": "Sample larger than population or is negative",
     "output_type": "error",
     "traceback": [
      "\u001b[0;31m---------------------------------------------------------------------------\u001b[0m",
      "\u001b[0;31mValueError\u001b[0m                                Traceback (most recent call last)",
      "Cell \u001b[0;32mIn [35], line 12\u001b[0m\n\u001b[1;32m      8\u001b[0m num_files_to_delete \u001b[38;5;241m=\u001b[39m \u001b[38;5;241m8000\u001b[39m\n\u001b[1;32m     10\u001b[0m files \u001b[38;5;241m=\u001b[39m os\u001b[38;5;241m.\u001b[39mlistdir(img_folder_to_temove)\n\u001b[0;32m---> 12\u001b[0m \u001b[38;5;28;01mfor\u001b[39;00m file \u001b[38;5;129;01min\u001b[39;00m sample(files, num_files_to_delete):\n\u001b[1;32m     13\u001b[0m     name \u001b[38;5;241m=\u001b[39m file\n\u001b[1;32m     14\u001b[0m     os\u001b[38;5;241m.\u001b[39mremove(os\u001b[38;5;241m.\u001b[39mpath\u001b[38;5;241m.\u001b[39mjoin(img_folder_to_temove, name))\n",
      "File \u001b[0;32m/usr/lib/python3.8/random.py:363\u001b[0m, in \u001b[0;36mRandom.sample\u001b[0;34m(self, population, k)\u001b[0m\n\u001b[1;32m    361\u001b[0m n \u001b[38;5;241m=\u001b[39m \u001b[38;5;28mlen\u001b[39m(population)\n\u001b[1;32m    362\u001b[0m \u001b[38;5;28;01mif\u001b[39;00m \u001b[38;5;129;01mnot\u001b[39;00m \u001b[38;5;241m0\u001b[39m \u001b[38;5;241m<\u001b[39m\u001b[38;5;241m=\u001b[39m k \u001b[38;5;241m<\u001b[39m\u001b[38;5;241m=\u001b[39m n:\n\u001b[0;32m--> 363\u001b[0m     \u001b[38;5;28;01mraise\u001b[39;00m \u001b[38;5;167;01mValueError\u001b[39;00m(\u001b[38;5;124m\"\u001b[39m\u001b[38;5;124mSample larger than population or is negative\u001b[39m\u001b[38;5;124m\"\u001b[39m)\n\u001b[1;32m    364\u001b[0m result \u001b[38;5;241m=\u001b[39m [\u001b[38;5;28;01mNone\u001b[39;00m] \u001b[38;5;241m*\u001b[39m k\n\u001b[1;32m    365\u001b[0m setsize \u001b[38;5;241m=\u001b[39m \u001b[38;5;241m21\u001b[39m        \u001b[38;5;66;03m# size of a small set minus size of an empty list\u001b[39;00m\n",
      "\u001b[0;31mValueError\u001b[0m: Sample larger than population or is negative"
     ]
    }
   ],
   "source": [
    "####################################################\n",
    "# Random deleting files for banlanced data\n",
    "####################################################\n",
    "\n",
    "img_folder_to_temove = x_valid_dir\n",
    "mask_folder_to_temove = y_valid_dir\n",
    "\n",
    "num_files_to_delete = 8000\n",
    "\n",
    "files = os.listdir(img_folder_to_temove)\n",
    "\n",
    "for file in sample(files, num_files_to_delete):\n",
    "    name = file\n",
    "    os.remove(os.path.join(img_folder_to_temove, name))\n",
    "    os.remove(os.path.join(mask_folder_to_temove, name))"
   ]
  },
  {
   "cell_type": "code",
   "execution_count": 64,
   "metadata": {},
   "outputs": [],
   "source": [
    "####################################################\n",
    "# Delete specific file\n",
    "####################################################\n",
    "\n",
    "file_name = '055_32704_170016.jpg'\n",
    "img_folder_to_temove = x_train_dir\n",
    "mask_folder_to_temove = y_train_dir\n",
    "\n",
    "os.remove(os.path.join(img_folder_to_temove, file_name))\n",
    "os.remove(os.path.join(mask_folder_to_temove, file_name))"
   ]
  },
  {
   "cell_type": "code",
   "execution_count": 71,
   "metadata": {},
   "outputs": [],
   "source": [
    "####################################################\n",
    "# Moving all files between folders\n",
    "####################################################\n",
    "\n",
    "#test_mask = base_path + 'test/mask/' # pacths para train\n",
    "\n",
    "source_dir = './new_files/train/mask/img/'\n",
    "target_dir = './train/mask/img/'\n",
    "    \n",
    "file_names = os.listdir(source_dir)\n",
    "    \n",
    "for file_name in file_names:\n",
    "    shutil.move(os.path.join(source_dir, file_name), target_dir)"
   ]
  },
  {
   "cell_type": "code",
   "execution_count": 89,
   "metadata": {},
   "outputs": [],
   "source": [
    "################################################################\n",
    "# Moving specific number of images and masks between folders\n",
    "################################################################\n",
    "\n",
    "source_dir_img = x_valid_dir\n",
    "source_dir_mask = y_valid_dir\n",
    "\n",
    "target_dir_img = x_test_dir\n",
    "target_dir_mask = y_test_dir\n",
    "\n",
    "\n",
    "files = os.listdir(source_dir_img)\n",
    "num_files_to_move = 90\n",
    "\n",
    "for file in sample(files, num_files_to_move):\n",
    "\n",
    "    file_name = file\n",
    "    \n",
    "    shutil.move(os.path.join(source_dir_img, file_name), target_dir_img)\n",
    "    shutil.move(os.path.join(source_dir_mask, file_name), target_dir_mask)"
   ]
  },
  {
   "cell_type": "code",
   "execution_count": 32,
   "metadata": {},
   "outputs": [
    {
     "name": "stdout",
     "output_type": "stream",
     "text": [
      "14598\n",
      "number of different files = 0\n"
     ]
    }
   ],
   "source": [
    "######################################################################\n",
    "# Checking if same file (file_name) exist in image and mask folders\n",
    "######################################################################\n",
    "\n",
    "from os.path import exists\n",
    "\n",
    "path = k_fold_img\n",
    "files = os.listdir(path)\n",
    "cont = 0\n",
    "num_files = len([f for f in os.listdir(path)if os.path.isfile(os.path.join(path, f))])\n",
    "print(num_files)\n",
    "for file in sample(files, num_files):\n",
    "    \n",
    "    file_exists = os.path.exists(k_fold_mask + file )\n",
    "    #print('./new_files/train/image/img/' + file )\n",
    "\n",
    "    #print(file_exists)\n",
    "    if not file_exists:\n",
    "        cont = cont + 1\n",
    "        #print(file)\n",
    "print('number of different files =', cont)"
   ]
  },
  {
   "cell_type": "code",
   "execution_count": null,
   "metadata": {},
   "outputs": [],
   "source": []
  }
 ],
 "metadata": {
  "accelerator": "GPU",
  "colab": {
   "collapsed_sections": [],
   "machine_shape": "hm",
   "provenance": []
  },
  "gpuClass": "standard",
  "kernelspec": {
   "display_name": "Python 3 (ipykernel)",
   "language": "python",
   "name": "python3"
  },
  "language_info": {
   "codemirror_mode": {
    "name": "ipython",
    "version": 3
   },
   "file_extension": ".py",
   "mimetype": "text/x-python",
   "name": "python",
   "nbconvert_exporter": "python",
   "pygments_lexer": "ipython3",
   "version": "3.10.8"
  }
 },
 "nbformat": 4,
 "nbformat_minor": 4
}

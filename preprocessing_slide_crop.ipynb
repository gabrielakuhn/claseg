{
 "cells": [
  {
   "cell_type": "code",
   "execution_count": null,
   "id": "24616974",
   "metadata": {},
   "outputs": [],
   "source": [
    "# ESSE EH O QUE FUNCIONA 8/02/2023"
   ]
  },
  {
   "cell_type": "code",
   "execution_count": 50,
   "id": "5626e591-0c32-4735-ba22-306537f89456",
   "metadata": {},
   "outputs": [
    {
     "name": "stdout",
     "output_type": "stream",
     "text": [
      "zsh:1: command not found: apt-get\n",
      "Requirement already satisfied: openslide-python in /Users/bibikuhn/opt/anaconda3/envs/final01/lib/python3.10/site-packages (1.2.0)\n",
      "Requirement already satisfied: Pillow in /Users/bibikuhn/opt/anaconda3/envs/final01/lib/python3.10/site-packages (from openslide-python) (9.3.0)\n",
      "Requirement already satisfied: tifffile in /Users/bibikuhn/opt/anaconda3/envs/final01/lib/python3.10/site-packages (2022.10.10)\n",
      "Requirement already satisfied: numpy>=1.19.2 in /Users/bibikuhn/opt/anaconda3/envs/final01/lib/python3.10/site-packages (from tifffile) (1.23.5)\n",
      "Requirement already satisfied: matplotlib in /Users/bibikuhn/opt/anaconda3/envs/final01/lib/python3.10/site-packages (3.6.2)\n",
      "Requirement already satisfied: inline in /Users/bibikuhn/opt/anaconda3/envs/final01/lib/python3.10/site-packages (0.0.1)\n",
      "Requirement already satisfied: pillow>=6.2.0 in /Users/bibikuhn/opt/anaconda3/envs/final01/lib/python3.10/site-packages (from matplotlib) (9.3.0)\n",
      "Requirement already satisfied: python-dateutil>=2.7 in /Users/bibikuhn/opt/anaconda3/envs/final01/lib/python3.10/site-packages (from matplotlib) (2.8.2)\n",
      "Requirement already satisfied: pyparsing>=2.2.1 in /Users/bibikuhn/opt/anaconda3/envs/final01/lib/python3.10/site-packages (from matplotlib) (3.0.9)\n",
      "Requirement already satisfied: contourpy>=1.0.1 in /Users/bibikuhn/opt/anaconda3/envs/final01/lib/python3.10/site-packages (from matplotlib) (1.0.6)\n",
      "Requirement already satisfied: numpy>=1.19 in /Users/bibikuhn/opt/anaconda3/envs/final01/lib/python3.10/site-packages (from matplotlib) (1.23.5)\n",
      "Requirement already satisfied: kiwisolver>=1.0.1 in /Users/bibikuhn/opt/anaconda3/envs/final01/lib/python3.10/site-packages (from matplotlib) (1.4.4)\n",
      "Requirement already satisfied: fonttools>=4.22.0 in /Users/bibikuhn/opt/anaconda3/envs/final01/lib/python3.10/site-packages (from matplotlib) (4.38.0)\n",
      "Requirement already satisfied: packaging>=20.0 in /Users/bibikuhn/opt/anaconda3/envs/final01/lib/python3.10/site-packages (from matplotlib) (22.0)\n",
      "Requirement already satisfied: cycler>=0.10 in /Users/bibikuhn/opt/anaconda3/envs/final01/lib/python3.10/site-packages (from matplotlib) (0.11.0)\n",
      "Requirement already satisfied: six>=1.5 in /Users/bibikuhn/opt/anaconda3/envs/final01/lib/python3.10/site-packages (from python-dateutil>=2.7->matplotlib) (1.16.0)\n"
     ]
    }
   ],
   "source": [
    "# Install the OpenSlide C library and Python bindings\n",
    "!apt-get install openslide-tools\n",
    "!pip install openslide-python\n",
    "!pip install tifffile\n",
    "\n",
    "#Install libraries\n",
    "!pip install matplotlib inline\n",
    "import matplotlib.pyplot as plt\n",
    "import numpy as np\n",
    "from openslide import open_slide\n",
    "import os\n",
    "import os.path\n",
    "from PIL import Image\n",
    "import math\n",
    "import cv2\n",
    "\n",
    "from tqdm import tqdm"
   ]
  },
  {
   "cell_type": "code",
   "execution_count": 51,
   "id": "b922f821",
   "metadata": {},
   "outputs": [],
   "source": [
    "################################################\n",
    "# Running utilities/stain_norm functions\n",
    "################################################\n",
    "\n",
    "# create_dir, read_slide, grays_filter, img_to_rgb, numpy2RGBpil\n",
    "# isCenterMaskPositive, isPatchNotFullPositive, \n",
    "\n",
    "%run utilities_framework.ipynb"
   ]
  },
  {
   "cell_type": "code",
   "execution_count": 56,
   "id": "3d981488",
   "metadata": {},
   "outputs": [],
   "source": [
    "################################################\n",
    "# Setting folders\n",
    "################################################\n",
    "\n",
    "slide_num = '002'\n",
    "\n",
    "base_path = '../slides_cropped/' + slide_num\n",
    "\n",
    "all_patches_dir = base_path + '/all_patches/all/' #patches with tissues\n",
    "classified_patches_dir = base_path + '/classified_patches/' #patches with tissues\n",
    "segmented_patches_dir = base_path + '/segmented_masks/'\n",
    "segmented_masks_rounded_dir = base_path + '/segmented_masks_rounded/'\n",
    "roi_patches_non_binary = base_path + '/roi_patches_non_binary/'\n",
    "redmensioned_seg_masks_dir = base_path + '/redmensioned_seg_masks/'"
   ]
  },
  {
   "cell_type": "code",
   "execution_count": null,
   "id": "85a42429",
   "metadata": {},
   "outputs": [],
   "source": [
    "create_directory(alcreate_directory(all_patches_dir)\n",
    "create_directory(classified_patches_dir)\n",
    "                 \n",
    "create_directory(segmented_patches_dir)\n",
    "create_directory(segmented_masks_rounded_dir)\n",
    "                 \n",
    "create_directory(roi_patches_non_binary)\n",
    "create_directory(redmensioned_seg_masks_dir)"
   ]
  },
  {
   "cell_type": "code",
   "execution_count": 64,
   "id": "9de2e620-39e5-4099-bb16-9b9ebdd90130",
   "metadata": {},
   "outputs": [
    {
     "data": {
      "text/plain": [
       "<matplotlib.image.AxesImage at 0x13e62bac0>"
      ]
     },
     "execution_count": 64,
     "metadata": {},
     "output_type": "execute_result"
    },
    {
     "data": {
      "image/png": "[encoded data removed]",
      "text/plain": [
       "<Figure size 1000x1000 with 1 Axes>"
      ]
     },
     "metadata": {},
     "output_type": "display_data"
    }
   ],
   "source": [
    "################################################\n",
    "# Read slide - check slide\n",
    "################################################\n",
    "\n",
    "#slide_path = '../slides_to_test/' + slide_num +'/' + 'test_'+ slide_num + '.tif'\n",
    "slide_path = '../slides_to_test/' + slide_num +'/' + 'tumor_'+ slide_num + '_mask.tif'\n",
    "\n",
    "slide = open_slide(slide_path)\n",
    "\n",
    "level_to_plot=7\n",
    "\n",
    "slide_image = read_slide(slide, \n",
    "                          x=0, \n",
    "                          y=0, \n",
    "                          level=level_to_plot,\n",
    "                          width=slide.level_dimensions[level_to_plot][0], \n",
    "                          height=slide.level_dimensions[level_to_plot][1])\n",
    "\n",
    "plt.figure(figsize=(10,10))\n",
    "plt.imshow(slide_image)"
   ]
  },
  {
   "cell_type": "code",
   "execution_count": 59,
   "id": "d5cdd42a-1e73-4e75-aaf2-ef023f8a7c7e",
   "metadata": {},
   "outputs": [
    {
     "name": "stdout",
     "output_type": "stream",
     "text": [
      "# slide_path = ../slides_to_test/002/tumor_002_mask.tif\n",
      "# widthInPixels = 97792\n",
      "# heightInPixels = 221184\n",
      "# ===============================\n",
      "size_x_times_level = 992\n",
      "size_y_times_level = 992\n"
     ]
    }
   ],
   "source": [
    "################################################\n",
    "# Patch configs\n",
    "################################################\n",
    "\n",
    "def make_square(a, b):\n",
    "    if (a > b): \n",
    "        b = a\n",
    "    else:\n",
    "        a = b\n",
    "    return a, b\n",
    "\n",
    "def read_img(IMAGE_NAME, DIR):\n",
    "    read = lambda imname: np.asarray(Image.open(imname))\n",
    "    PATH = os.path.join(DIR,IMAGE_NAME)\n",
    "    img = read(PATH)\n",
    "    return img\n",
    "\n",
    "level_to_crop = 0\n",
    "level = 8\n",
    "\n",
    "itemSizeInPixels = 224 #patch_size\n",
    "widthInPixels = slide.level_dimensions[level_to_crop][0]\n",
    "heightInPixels = slide.level_dimensions[level_to_crop][1]\n",
    "\n",
    "size_y = int(math.ceil(heightInPixels / itemSizeInPixels))\n",
    "size_x = int(math.ceil(widthInPixels / itemSizeInPixels))\n",
    "size_y, size_x = make_square(size_y, size_x)\n",
    "\n",
    "size_x_times_level = int(math.ceil(size_x / level)) * level # making the number a multiple of the level\n",
    "size_y_times_level = int(math.ceil(size_y / level)) * level\n",
    "size_y_times_level, size_x_times_level = make_square(size_y_times_level, size_x_times_level)\n",
    "\n",
    "size_x_by_level = int(math.ceil(size_x / level))\n",
    "size_y_by_level = int(math.ceil(size_y / level))\n",
    "size_y_by_level, size_x_by_level = make_square(size_y_by_level, size_x_by_level)\n",
    "\n",
    "\n",
    "print(\"# slide_path =\", slide_path)\n",
    "print(\"# widthInPixels =\", widthInPixels)\n",
    "print(\"# heightInPixels =\", heightInPixels)\n",
    "print(\"# ===============================\")\n",
    "print(\"size_x_times_level =\", size_x_times_level)\n",
    "print(\"size_y_times_level =\", size_y_times_level)"
   ]
  },
  {
   "cell_type": "code",
   "execution_count": 60,
   "id": "0f1a1b6a",
   "metadata": {},
   "outputs": [
    {
     "name": "stderr",
     "output_type": "stream",
     "text": [
      "100%|███████████████████████████████| 992/992 [28:10<00:00,  1.70s/it]\n"
     ]
    }
   ],
   "source": [
    "#####################################################\n",
    "# Cropping ALL the image into patches and saving it\n",
    "#####################################################\n",
    "\n",
    "for y in tqdm(range(size_y_times_level)): # round range up or down depending on where you want the black bar\n",
    "    for x in range(size_x_times_level):  # round range up or down depending on where you want the black bar\n",
    "        columnStartPixelPosition = x * itemSizeInPixels\n",
    "        columnEndPixelPosition = columnStartPixelPosition + (itemSizeInPixels - 1)\n",
    "        rowStartPixelPosition = y * itemSizeInPixels\n",
    "        rowEndPixelPosition = rowStartPixelPosition + (itemSizeInPixels - 1)\n",
    "        \n",
    "        patch_name = str(x) + \"_\" + str(y) + \".jpg\"\n",
    "        \n",
    "        cropped_image = read_slide(slide, \n",
    "                        x=columnStartPixelPosition,\n",
    "                        y=rowStartPixelPosition,\n",
    "                        level=level_to_crop, \n",
    "                        width=itemSizeInPixels,\n",
    "                        height=itemSizeInPixels)\n",
    "        \n",
    "        plt.imsave(all_patches_dir + patch_name, cropped_image)"
   ]
  },
  {
   "cell_type": "code",
   "execution_count": null,
   "id": "9fa5c0b1",
   "metadata": {},
   "outputs": [],
   "source": [
    "########################################################\n",
    "###################### *** OR *** ######################\n",
    "########################################################\n",
    "########################################################\n",
    "# Cropping the image where it has TISSUE and saving it\n",
    "########################################################\n",
    "\n",
    "numberOfSavedPatchs = 0\n",
    "numberOfExceptions = 0\n",
    "\n",
    "for y in tqdm(range(size_y_times_level)): # round range up or down depending on where you want the black bar\n",
    "    for x in range(size_x_times_level):  # round range up or down depending on where you want the black bar\n",
    "        columnStartPixelPosition = x * itemSizeInPixels\n",
    "        columnEndPixelPosition = columnStartPixelPosition + (itemSizeInPixels - 1)\n",
    "        rowStartPixelPosition = y * itemSizeInPixels\n",
    "        rowEndPixelPosition = rowStartPixelPosition + (itemSizeInPixels - 1)\n",
    "        \n",
    "        patch_name = str(x) + \"_\" + str(y) + \".jpg\"\n",
    "        \n",
    "        patch_image = read_slide(slide, \n",
    "                        x=columnStartPixelPosition,\n",
    "                        y=rowStartPixelPosition,\n",
    "                        level=level_to_crop, \n",
    "                        width=itemSizeInPixels,\n",
    "                        height=itemSizeInPixels)\n",
    "        \n",
    "        # Mask To Remove Background\n",
    "        non_bg_mask = grays_filter(patch_image)\n",
    "        patchWithoutBackground = patch_image * np.dstack([non_bg_mask, non_bg_mask, non_bg_mask])\n",
    "\n",
    "        isAllBlack = np.all((patchWithoutBackground == 0))\n",
    "                \n",
    "        percentTissueAtPatch = percentTissueAtImage(patchWithoutBackground, patchSize)\n",
    "        \n",
    "        # all black === non tissue => Also using 40% because analize made at https://hackmd.io/DqePzvE2Qb-8_V9E_BWvtQ\n",
    "        if (not isAllBlack and percentTissueAtPatch > 75): \n",
    "            try:\n",
    "                norm_img = normalizeStaining(patch_image)\n",
    "                mask = img_to_rgb(patch_image)                 \n",
    "                patch_final = norm_img * np.dstack([mask, mask, mask])\n",
    "                        \n",
    "                patch_name = str(x) + \"_\" + str(y) + \".jpg\"\n",
    "                plt.imsave(all_patches_dir + patch_name, patch_final)\n",
    "                numberOfSavedPatchs += 1\n",
    "            except:\n",
    "                numberOfExceptions += 1\n",
    "                pass\n",
    "\n",
    "            \n",
    "print(\"# slide_path =\", slide_path)\n",
    "print(\"# numberOfSavedPatchs =\", numberOfSavedPatchs)\n",
    "print(\"# numberOfExceptions =\", numberOfExceptions)\n",
    "print(\"# ===============================\")"
   ]
  },
  {
   "cell_type": "code",
   "execution_count": null,
   "id": "1a9a9b95",
   "metadata": {},
   "outputs": [],
   "source": [
    "####################################################\n",
    "# Checking the number of files in the output folder\n",
    "####################################################\n",
    "\n",
    "path = all_patches_dir\n",
    "\n",
    "num_files = len([f for f in os.listdir(path)if os.path.isfile(os.path.join(path, f))])\n",
    "print(path)\n",
    "print(num_files)"
   ]
  }
 ],
 "metadata": {
  "kernelspec": {
   "display_name": "Python 3 (ipykernel)",
   "language": "python",
   "name": "python3"
  },
  "language_info": {
   "codemirror_mode": {
    "name": "ipython",
    "version": 3
   },
   "file_extension": ".py",
   "mimetype": "text/x-python",
   "name": "python",
   "nbconvert_exporter": "python",
   "pygments_lexer": "ipython3",
   "version": "3.9.12"
  }
 },
 "nbformat": 4,
 "nbformat_minor": 5
}
